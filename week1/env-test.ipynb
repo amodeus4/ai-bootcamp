{
 "cells": [
  {
   "cell_type": "code",
   "execution_count": 5,
   "id": "a31b527c-1ee8-4895-84d7-ac7ad38692f3",
   "metadata": {},
   "outputs": [],
   "source": [
    "from openai import OpenAI"
   ]
  },
  {
   "cell_type": "code",
   "execution_count": 6,
   "id": "3ab722e4-afff-48e5-9966-78e8eefceb5f",
   "metadata": {},
   "outputs": [],
   "source": [
    "openai_client = OpenAI()"
   ]
  },
  {
   "cell_type": "code",
   "execution_count": 11,
   "id": "f5d2fd91-1d07-40a0-82bf-613c22ee6c33",
   "metadata": {},
   "outputs": [
    {
     "name": "stdout",
     "output_type": "stream",
     "text": [
      "Once, in a valley folded between lavender hills, lived a small unicorn named Moonbeam. Her coat was the color of warm milk and her mane smelled faintly of morning rain. On her forehead sat a tiny horn that glowed a soft, pearly light—just enough to read the inside of a pocket book of stars.\n",
      "\n",
      "Each evening, Moonbeam walked the silver path that led to the tallest willow. There she listened to the hush of the world as the sun tucked itself away. One night she noticed a little star fallen into the grass, dim and shivering.\n",
      "\n",
      "\"I’m lost,\" the star whispered. \"I’m too small to find my way back up.\"\n",
      "\n",
      "Moonbeam knelt and touched the star gently with the tip of her horn. Her light spread like spilled honey, warm and steady. \"Climb on,\" she said. The star fit into a curl of her mane and snuggled there as snug as a button.\n",
      "\n",
      "They tried to lift off, but Moonbeam was only a small unicorn and the sky was very far. So they walked instead. Moonbeam carried the star to the edge of the lake where the water remembered every sky that ever was. She whispered to the lake to help, and the lake answered with a mirrored path of moonlight.\n",
      "\n",
      "Step by step, hoofbeats soft as lullabies, they crossed the gleaming trail. The star began to hum, growing brighter until it hummed and hummed like a silver bell. When they reached the place where the water met the sky, the star flitted up, kissed Moonbeam’s cheek, and found its home among the other lights.\n",
      "\n",
      "\"Thank you,\" the star sang, and the whole sky listened.\n",
      "\n",
      "Moonbeam watched as the stars blinked goodnight. Her horn dimmed to the warm nightlight she always kept for the valley. Back under the willow, she curled her legs and tucked her nose beneath her mane. The lavender hills sighed, the breeze tucked in the trees, and Moonbeam fell asleep to the soft music of the stars—comforted, knowing that even small lights can find their way back home.\n",
      "\n",
      "Goodnight.\n"
     ]
    }
   ],
   "source": [
    "response = openai_client.responses.create(\n",
    "  model=\"gpt-5-mini\",\n",
    "  input=\"Write a short bedtime story about a unicorn.\",\n",
    ")\n",
    "\n",
    "print(response.output_text);\n"
   ]
  }
 ],
 "metadata": {
  "kernelspec": {
   "display_name": "Python 3 (ipykernel)",
   "language": "python",
   "name": "python3"
  },
  "language_info": {
   "codemirror_mode": {
    "name": "ipython",
    "version": 3
   },
   "file_extension": ".py",
   "mimetype": "text/x-python",
   "name": "python",
   "nbconvert_exporter": "python",
   "pygments_lexer": "ipython3",
   "version": "3.12.1"
  }
 },
 "nbformat": 4,
 "nbformat_minor": 5
}
