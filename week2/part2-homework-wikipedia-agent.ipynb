{
 "cells": [
  {
   "cell_type": "markdown",
   "id": "8d310a3d-bdc7-4841-80d3-bbbe71a508b2",
   "metadata": {},
   "source": [
    "# Fetch page content"
   ]
  },
  {
   "cell_type": "code",
   "execution_count": 1,
   "id": "9b900258-632e-4f5e-b8dc-3f97af4022bc",
   "metadata": {},
   "outputs": [],
   "source": [
    "from agents import Agent, function_tool, Runner\n",
    "import requests\n",
    "\n",
    "def fetch_url(url):\n",
    "    jina_reader_base_url = 'https://r.jina.ai/'\n",
    "    jina_reader_url = jina_reader_base_url + url\n",
    "    response = requests.get(jina_reader_url)\n",
    "    return response.content.decode('utf8')\n",
    "    \n",
    "content = fetch_url('https://en.wikipedia.org/wiki/Capybara')"
   ]
  },
  {
   "cell_type": "code",
   "execution_count": 2,
   "id": "f3654788-91e4-4874-8486-2de050ce8154",
   "metadata": {},
   "outputs": [],
   "source": [
    "import requests\n",
    "from typing import Optional\n",
    "\n",
    "reader_url_prefix = \"https://r.jina.ai/\"\n",
    "\n",
    "def get_page_content(url: str) -> Optional[str]:\n",
    "    \"\"\"\n",
    "    Fetch the Markdown content of a web page using the Jina Reader service.\n",
    "\n",
    "    This function prepends the Jina Reader proxy URL to the provided `url`,\n",
    "    sends a GET request with a timeout, and decodes the response as UTF-8 text.\n",
    "\n",
    "    Args:\n",
    "        url (str): The URL of the page to fetch.\n",
    "\n",
    "    Returns:\n",
    "        Optional[str]: The Markdown-formatted content of the page if the request\n",
    "        succeeds; otherwise, None.\n",
    "\n",
    "    Raises:\n",
    "        None: All network or decoding errors are caught and suppressed.\n",
    "               Logs or error messages could be added as needed.\n",
    "    \"\"\"\n",
    "    reader_url = reader_url_prefix + url\n",
    "\n",
    "    try:\n",
    "        response = requests.get(reader_url, timeout=10)\n",
    "        response.raise_for_status()  # raises for 4xx/5xx HTTP errors\n",
    "        return response.content.decode(\"utf-8\")\n",
    "    except (requests.exceptions.RequestException, UnicodeDecodeError) as e:\n",
    "        # Optional: log or print the error for debugging\n",
    "        print(f\"Error fetching content from {url}: {e}\")\n",
    "        return None"
   ]
  },
  {
   "cell_type": "markdown",
   "id": "9ae9d808-fb88-4656-8503-fd146ad0db3c",
   "metadata": {},
   "source": [
    "# Summary Agent"
   ]
  },
  {
   "cell_type": "code",
   "execution_count": 3,
   "id": "52dd7f42-9529-47e4-afa1-1ad2138a15c5",
   "metadata": {},
   "outputs": [],
   "source": [
    "# tool for agent to read wikipea content\n",
    "\n",
    "from agents import function_tool\n",
    "\n",
    "@function_tool\n",
    "def fetch_wikipedia_content(url: str) -> str:\n",
    "    \"\"\"\n",
    "    Fetches and returns the Markdown content of a Wikipedia page.\n",
    "    \"\"\"\n",
    "    wiki_path = url.replace(\"https://\", \"\")\n",
    "    content = get_page_content(wiki_path)\n",
    "    if content is None:\n",
    "        return \"Could not fetch content from Wikipedia.\"\n",
    "    return content\n"
   ]
  },
  {
   "cell_type": "code",
   "execution_count": 4,
   "id": "1191daa7-cf22-42df-bbd7-3aa32a82c47b",
   "metadata": {},
   "outputs": [],
   "source": [
    "# Tool for agent to save summary\n",
    "\n",
    "@function_tool\n",
    "def save_summary(title: str, summary: str) -> str:\n",
    "    \"\"\"\n",
    "    Save a summary to disk for later retrieval.\n",
    "    \"\"\"\n",
    "    from pathlib import Path\n",
    "\n",
    "    summaries_dir = Path(\"./summaries\")\n",
    "    summaries_dir.mkdir(exist_ok=True)\n",
    "    file_path = summaries_dir / f\"{title}.txt\"\n",
    "    file_path.write_text(summary, encoding=\"utf-8\")\n",
    "    return f\"Saved summary to {file_path}\""
   ]
  },
  {
   "cell_type": "code",
   "execution_count": 5,
   "id": "dd6a5ec1-b0ed-4a34-be08-476020aa84e9",
   "metadata": {},
   "outputs": [],
   "source": [
    "summarizing_instructions = \"\"\"\n",
    "You are a helpful assistant. When a user asks about a Wikipedia page, follow these steps:\n",
    "\n",
    "1. Identify the URL in the user's request.\n",
    "2. Use the 'Fetch wikipedia content' tool to get the Markdown content of the page.\n",
    "3. Read the content and generate a concise, informative summary of the page.\n",
    "4. Use the 'Save Summary' tool to save the summary to disk.\n",
    "5. Respond to the user confirming that the summary has been saved, \n",
    "   and optionally include a brief preview of the summary.\n",
    "\n",
    "Always make sure to handle failures gracefully: if fetching the page or saving the summary fails, inform the user.\n",
    "\"\"\"\n",
    "\n",
    "content_tools = [\n",
    "    fetch_wikipedia_content,\n",
    "    save_summary\n",
    "]\n",
    "\n",
    "summarizing_agent = Agent(\n",
    "    name='summarizing_agent',\n",
    "    handoff_description='use this agent when you need a summary of a Wikipedia page',\n",
    "    tools=content_tools,\n",
    "    instructions=summarizing_instructions,\n",
    "    model='gpt-4o-mini'\n",
    ")\n"
   ]
  },
  {
   "cell_type": "code",
   "execution_count": 6,
   "id": "bb93c561-f0a0-44e8-a2a5-1521b56e8702",
   "metadata": {},
   "outputs": [],
   "source": [
    "from toyaikit.chat.runners import OpenAIAgentsSDKRunner\n",
    "from toyaikit.chat import IPythonChatInterface\n",
    "\n",
    "chat_interface = IPythonChatInterface()\n",
    "\n",
    "runner = OpenAIAgentsSDKRunner(\n",
    "    chat_interface=chat_interface,\n",
    "    agent=summarizing_agent\n",
    ")"
   ]
  },
  {
   "cell_type": "code",
   "execution_count": 7,
   "id": "07698157-1e57-4c19-84cc-e3cf51fb95e2",
   "metadata": {},
   "outputs": [
    {
     "name": "stdin",
     "output_type": "stream",
     "text": [
      "You: stop\n"
     ]
    },
    {
     "name": "stdout",
     "output_type": "stream",
     "text": [
      "Chat ended.\n"
     ]
    }
   ],
   "source": [
    "await runner.run();"
   ]
  },
  {
   "cell_type": "markdown",
   "id": "558b7036-9346-40e7-be7d-3ed72de9b801",
   "metadata": {},
   "source": [
    "# Search Function"
   ]
  },
  {
   "cell_type": "code",
   "execution_count": 8,
   "id": "bcb6d5b1-bea1-407d-ab2a-fbc32782e571",
   "metadata": {},
   "outputs": [],
   "source": [
    "# search/index class\n",
    "\n",
    "\n",
    "class SearchTools:\n",
    "\n",
    "    def __init__(self) -> None:\n",
    "        self.index = AppendableIndex(text_fields=['content'])\n",
    "\n",
    "    @function_tool\n",
    "    def index_content(self, url: str, content: Optional[str] = None) -> str:\n",
    "        \"\"\"\n",
    "        Index the content of a Wikipedia page into the search index.\n",
    "        \"\"\"\n",
    "        if content is None:\n",
    "            content = fetch_wikipedia_content(url)\n",
    "\n",
    "        if content.startswith(\"Error\"):\n",
    "            return content\n",
    "\n",
    "        # Split into chunks for indexing\n",
    "        chunks = [{\"content\": content[i:i+3000]} for i in range(0, len(content), 3000)]\n",
    "        for chunk in chunks:\n",
    "            chunk[\"url\"] = url\n",
    "            self.index.append(chunk)\n",
    "\n",
    "        return f\"SUCCESS: Indexed {url}\"\n"
   ]
  },
  {
   "cell_type": "code",
   "execution_count": 9,
   "id": "3ae7483e-60c3-4a32-b576-95de462cf071",
   "metadata": {},
   "outputs": [],
   "source": [
    "from typing import Any, Dict, List, Optional\n",
    "\n",
    "@function_tool\n",
    "def search(self, query: str) -> List[Dict[str, Any]]:\n",
    "    \"\"\"\n",
    "    Search the index for documents matching a query string.\n",
    "    \"\"\"\n",
    "    return self.index.search(query, num_results=5)"
   ]
  },
  {
   "cell_type": "code",
   "execution_count": 10,
   "id": "4ccf86e3-6711-40c4-a531-2fff0bb02139",
   "metadata": {},
   "outputs": [],
   "source": [
    "from minsearch import AppendableIndex\n",
    "from toyaikit.tools import wrap_instance_methods\n",
    "\n",
    "search_tools = SearchTools()\n",
    "search_tool_methods = wrap_instance_methods(function_tool, search_tools)\n",
    "\n",
    "search_instructions = \"\"\"\n",
    "Your task is to search through indexed Wikipedia pages.\n",
    "\n",
    "Before performing a search:\n",
    "1. Check if the page has been indexed.\n",
    "2. If not, call `index_content` to index it first.\n",
    "\n",
    "Important rules:\n",
    "- Do NOT call `search` using a Wikipedia URL as the query.\n",
    "- After successfully indexing a page, respond:\n",
    "  \"The page has been indexed. What would you like to learn about it?\"\n",
    "- Only perform a search if the user provides a natural-language question or topic.\n",
    "- Do not attempt to summarize content in the search agent.\n",
    "\"\"\"\n"
   ]
  },
  {
   "cell_type": "code",
   "execution_count": 11,
   "id": "92303816-828a-43c0-88c7-0327f275d3ef",
   "metadata": {},
   "outputs": [],
   "source": [
    "search_agent = Agent(\n",
    "    name='search_agent',\n",
    "    handoff_description='use this agent to search indexed Wikipedia pages',\n",
    "    tools=search_tool_methods,\n",
    "    instructions=search_instructions,\n",
    "    model='gpt-4o-mini'\n",
    ")\n"
   ]
  },
  {
   "cell_type": "code",
   "execution_count": 12,
   "id": "1ca29408-fd07-4907-840a-da1ad46f9db1",
   "metadata": {},
   "outputs": [
    {
     "name": "stdin",
     "output_type": "stream",
     "text": [
      "You: stop\n"
     ]
    },
    {
     "name": "stdout",
     "output_type": "stream",
     "text": [
      "Chat ended.\n"
     ]
    }
   ],
   "source": [
    "search_runner = OpenAIAgentsSDKRunner(\n",
    "    chat_interface=chat_interface,\n",
    "    agent=search_agent\n",
    ")\n",
    "\n",
    "await search_runner.run();"
   ]
  },
  {
   "cell_type": "markdown",
   "id": "7367ddfe-43eb-4597-b6c3-96a8a329bed5",
   "metadata": {},
   "source": [
    "# Triaging Agent"
   ]
  },
  {
   "cell_type": "code",
   "execution_count": 13,
   "id": "ba7b2027-82c2-444e-bb26-c5d1d53fbdc7",
   "metadata": {},
   "outputs": [],
   "source": [
    "from agents import handoff, Agent\n",
    "\n",
    "triage_instructions = \"\"\"\n",
    "You are the orchestrator between two specialized agents:\n",
    "\n",
    "1. summarizing_agent — summarizes Wikipedia pages.\n",
    "2. search_agent — searches within previously indexed pages to answer content questions.\n",
    "\n",
    "Routing rules:\n",
    "- If the user sends a Wikipedia link without any question → hand off to summarizing_agent.\n",
    "- If the user asks for a summary or overview of a page → summarizing_agent.\n",
    "- If the user asks a follow-up question about content that has already been indexed, \n",
    "  including any natural-language question like \"What are threats to capybara populations?\" → hand off to search_agent.\n",
    "- Always use search_agent for detailed or specific content queries that relate to already indexed pages.\n",
    "\"\"\"\n",
    "\n",
    "triage_agent = Agent(\n",
    "    name=\"triage_agent\",\n",
    "    instructions=triage_instructions,\n",
    "    handoffs=[\n",
    "        handoff(summarizing_agent, on_handoff=lambda ctx: print('summarizing handoff called')),\n",
    "        handoff(search_agent, on_handoff=lambda ctx: print('search handoff called')),\n",
    "    ],\n",
    "    model='gpt-4o-mini'\n",
    ")\n"
   ]
  },
  {
   "cell_type": "code",
   "execution_count": 14,
   "id": "39993121-107f-45d6-b7c0-f99d794281da",
   "metadata": {},
   "outputs": [],
   "source": [
    "chat_interface = IPythonChatInterface()\n",
    "\n",
    "triage_runner = OpenAIAgentsSDKRunner(\n",
    "    chat_interface=chat_interface,\n",
    "    agent=triage_agent\n",
    ")"
   ]
  },
  {
   "cell_type": "code",
   "execution_count": null,
   "id": "d0df4449-7740-4d0a-8380-23b846e3fa4d",
   "metadata": {},
   "outputs": [
    {
     "name": "stdin",
     "output_type": "stream",
     "text": [
      "You: index this page https://en.wikipedia.org/wiki/Caviodon\n"
     ]
    },
    {
     "name": "stdout",
     "output_type": "stream",
     "text": [
      "summarizing handoff called\n",
      "handoff: transfer_to_summarizing_agent\n",
      "handoff: summarizing_agent -> triage_agent successful\n"
     ]
    },
    {
     "data": {
      "text/html": [
       "\n",
       "            <details>\n",
       "            <summary>Function call: <tt>fetch_wikipedia_content({\"url\":\"https://en.wikipedia.org/wiki/Caviodon\"})</tt></summary>\n",
       "            <div>\n",
       "                <b>Call</b>\n",
       "                <pre>{\"url\":\"https://en.wikipedia.org/wiki/Caviodon\"}</pre>\n",
       "            </div>\n",
       "            <div>\n",
       "                <b>Output</b>\n",
       "                <pre>Title: Caviodon\n",
       "\n",
       "URL Source: http://en.wikipedia.org/wiki/Caviodon\n",
       "\n",
       "Published Time: 2012-01-26T00:02:04Z\n",
       "\n",
       "Markdown Content:\n",
       "Caviodon - Wikipedia\n",
       "\n",
       "===============\n",
       "[Jump to content](http://en.wikipedia.org/wiki/Caviodon#bodyContent)\n",
       "\n",
       "- [x] Main menu \n",
       "\n",
       "Main menu\n",
       "\n",
       "move to sidebar hide\n",
       "\n",
       " Navigation \n",
       "\n",
       "*   [Main page](http://en.wikipedia.org/wiki/Main_Page \"Visit the main page [alt-z]\")\n",
       "*   [Contents](http://en.wikipedia.org/wiki/Wikipedia:Contents \"Guides to browsing Wikipedia\")\n",
       "*   [Current events](http://en.wikipedia.org/wiki/Portal:Current_events \"Articles related to current events\")\n",
       "*   [Random article](http://en.wikipedia.org/wiki/Special:Random \"Visit a randomly selected article [alt-x]\")\n",
       "*   [About Wikipedia](http://en.wikipedia.org/wiki/Wikipedia:About \"Learn about Wikipedia and how it works\")\n",
       "*   [Contact us](http://en.wikipedia.org/wiki/Wikipedia:Contact_us \"How to contact Wikipedia\")\n",
       "\n",
       " Contribute \n",
       "\n",
       "*   [Help](http://en.wikipedia.org/wiki/Help:Contents \"Guidance on how to use and edit Wikipedia\")\n",
       "*   [Learn to edit](http://en.wikipedia.org/wiki/Help:Introduction \"Learn how to edit Wikipedia\")\n",
       "*   [Community portal](http://en.wikipedia.org/wiki/Wikipedia:Community_portal \"The hub for editors\")\n",
       "*   [Recent changes](http://en.wikipedia.org/wiki/Special:RecentChanges \"A list of recent changes to Wikipedia [alt-r]\")\n",
       "*   [Upload file](http://en.wikipedia.org/wiki/Wikipedia:File_upload_wizard \"Add images or other media for use on Wikipedia\")\n",
       "*   [Special pages](http://en.wikipedia.org/wiki/Special:SpecialPages)\n",
       "\n",
       "[![Image 2](http://en.wikipedia.org/static/images/icons/wikipedia.png)![Image 3: Wikipedia](http://en.wikipedia.org/static/images/mobile/copyright/wikipedia-wordmark-en.svg)![Image 4: The Free Encyclopedia](http://en.wikipedia.org/static/images/mobile/copyright/wikipedia-tagline-en.svg)](http://en.wikipedia.org/wiki/Main_Page)\n",
       "\n",
       "[Search](http://en.wikipedia.org/wiki/Special:Search \"Search Wikipedia [alt-f]\")\n",
       "\n",
       "Search\n",
       "\n",
       "- [x] Appearance \n",
       "\n",
       "Appearance\n",
       "\n",
       "move to sidebar hide\n",
       "\n",
       "Text\n",
       "\n",
       "*   Small  Standard  Large   \n",
       "\n",
       "This page always uses small font size\n",
       "\n",
       "Width\n",
       "\n",
       "*   Standard  Wide   \n",
       "\n",
       "The content is as wide as possible for your browser window.\n",
       "\n",
       "Color (beta)\n",
       "\n",
       "*   Automatic  Light  Dark   \n",
       "\n",
       "This page is always in light mode.\n",
       "\n",
       "*   [Donate](https://donate.wikimedia.org/?wmf_source=donate&wmf_medium=sidebar&wmf_campaign=en.wikipedia.org&uselang=en)\n",
       "*   [Create account](http://en.wikipedia.org/w/index.php?title=Special:CreateAccount&returnto=Caviodon \"You are encouraged to create an account and log in; however, it is not mandatory\")\n",
       "*   [Log in](http://en.wikipedia.org/w/index.php?title=Special:UserLogin&returnto=Caviodon \"You're encouraged to log in; however, it's not mandatory. [alt-o]\")\n",
       "\n",
       "- [x] Personal tools \n",
       "\n",
       "*   [Donate](https://donate.wikimedia.org/?wmf_source=donate&wmf_medium=sidebar&wmf_campaign=en.wikipedia.org&uselang=en)\n",
       "*   [Create account](http://en.wikipedia.org/w/index.php?title=Special:CreateAccount&returnto=Caviodon \"You are encouraged to create an account and log in; however, it is not mandatory\")\n",
       "*   [Log in](http://en.wikipedia.org/w/index.php?title=Special:UserLogin&returnto=Caviodon \"You're encouraged to log in; however, it's not mandatory. [alt-o]\")\n",
       "\n",
       " Pages for logged out editors [learn more](http://en.wikipedia.org/wiki/Help:Introduction)\n",
       "\n",
       "*   [Contributions](http://en.wikipedia.org/wiki/Special:MyContributions \"A list of edits made from this IP address [alt-y]\")\n",
       "*   [Talk](http://en.wikipedia.org/wiki/Special:MyTalk \"Discussion about edits from this IP address [alt-n]\")\n",
       "\n",
       "[![Image 5](http://upload.wikimedia.org/wikipedia/commons/thumb/c/ca/Wiki_Loves_Monuments_Logo_notext.svg/70px-Wiki_Loves_Monuments_Logo_notext.svg.png) Photograph a historic site, help Wikipedia, and win a prize. Participate in the world's largest photography competition this month!Learn more ![Image 6](http://en.wikipedia.org/wiki/Caviodon)](https://commons.wikimedia.org/wiki/Commons:Wiki_Loves_Monuments_2025_in_the_United_States)\n",
       "\n",
       "- [x] Toggle the table of contents \n",
       "\n",
       "Contents\n",
       "--------\n",
       "\n",
       "move to sidebar hide\n",
       "\n",
       "*   [(Top)](http://en.wikipedia.org/wiki/Caviodon#)\n",
       "*   [1 References](http://en.wikipedia.org/wiki/Caviodon#References)\n",
       "\n",
       "_Caviodon_\n",
       "==========\n",
       "\n",
       "- [x] 1 language \n",
       "\n",
       "*   [Català](https://ca.wikipedia.org/wiki/Caviodon \"Caviodon – Catalan\")\n",
       "\n",
       "[Edit links](https://www.wikidata.org/wiki/Special:EntityPage/Q5055153#sitelinks-wikipedia \"Edit interlanguage links\")\n",
       "\n",
       "*   [Article](http://en.wikipedia.org/wiki/Caviodon \"View the content page [alt-c]\")\n",
       "*   [Talk](http://en.wikipedia.org/wiki/Talk:Caviodon \"Discuss improvements to the content page [alt-t]\")\n",
       "\n",
       "- [x] English \n",
       "\n",
       "*   [Read](http://en.wikipedia.org/wiki/Caviodon)\n",
       "*   [Edit](http://en.wikipedia.org/w/index.php?title=Caviodon&action=edit \"Edit this page [alt-e]\")\n",
       "*   [View history](http://en.wikipedia.org/w/index.php?title=Caviodon&action=history \"Past revisions of this page [alt-h]\")\n",
       "\n",
       "- [x] Tools \n",
       "\n",
       "Tools\n",
       "\n",
       "move to sidebar hide\n",
       "\n",
       " Actions \n",
       "\n",
       "*   [Read](http://en.wikipedia.org/wiki/Caviodon)\n",
       "*   [Edit](http://en.wikipedia.org/w/index.php?title=Caviodon&action=edit \"Edit this page [alt-e]\")\n",
       "*   [View history](http://en.wikipedia.org/w/index.php?title=Caviodon&action=history)\n",
       "\n",
       " General \n",
       "\n",
       "*   [What links here](http://en.wikipedia.org/wiki/Special:WhatLinksHere/Caviodon \"List of all English Wikipedia pages containing links to this page [alt-j]\")\n",
       "*   [Related changes](http://en.wikipedia.org/wiki/Special:RecentChangesLinked/Caviodon \"Recent changes in pages linked from this page [alt-k]\")\n",
       "*   [Upload file](http://en.wikipedia.org/wiki/Wikipedia:File_Upload_Wizard \"Upload files [alt-u]\")\n",
       "*   [Permanent link](https://en.wikipedia.org/w/index.php?title=Caviodon&oldid=1295521068 \"Permanent link to this revision of this page\")\n",
       "*   [Page information](http://en.wikipedia.org/w/index.php?title=Caviodon&action=info \"More information about this page\")\n",
       "*   [Cite this page](http://en.wikipedia.org/w/index.php?title=Special:CiteThisPage&page=Caviodon&id=1295521068&wpFormIdentifier=titleform \"Information on how to cite this page\")\n",
       "*   [Get shortened URL](http://en.wikipedia.org/w/index.php?title=Special:UrlShortener&url=https%3A%2F%2Fen.wikipedia.org%2Fwiki%2FCaviodon)\n",
       "*   [Download QR code](http://en.wikipedia.org/w/index.php?title=Special:QrCode&url=https%3A%2F%2Fen.wikipedia.org%2Fwiki%2FCaviodon)\n",
       "*   [Edit interlanguage links](https://www.wikidata.org/wiki/Special:EntityPage/Q5055153#sitelinks-wikipedia \"Edit interlanguage links\")\n",
       "\n",
       " Print/export \n",
       "\n",
       "*   [Download as PDF](http://en.wikipedia.org/w/index.php?title=Special:DownloadAsPdf&page=Caviodon&action=show-download-screen \"Download this page as a PDF file\")\n",
       "*   [Printable version](http://en.wikipedia.org/w/index.php?title=Caviodon&printable=yes \"Printable version of this page [alt-p]\")\n",
       "\n",
       " In other projects \n",
       "\n",
       "*   [Wikidata item](https://www.wikidata.org/wiki/Special:EntityPage/Q5055153 \"Structured data on this page hosted by Wikidata [alt-g]\")\n",
       "\n",
       "From Wikipedia, the free encyclopedia\n",
       "\n",
       "Extinct genus of rodents\n",
       "\n",
       "| _Caviodon_ Temporal range: [Late Miocene](http://en.wikipedia.org/wiki/Miocene \"Miocene\")-[Late Pliocene](http://en.wikipedia.org/wiki/Pliocene \"Pliocene\") ([Montehermosan](http://en.wikipedia.org/wiki/Montehermosan \"Montehermosan\")-[Chapadmalalan](http://en.wikipedia.org/wiki/Chapadmalalan \"Chapadmalalan\")) ~6.8–3.0[Ma](http://en.wikipedia.org/wiki/Megaannum \"Megaannum\") [PreꞒ](http://en.wikipedia.org/wiki/Precambrian \"Precambrian\") [Ꞓ](http://en.wikipedia.org/wiki/Cambrian \"Cambrian\") [O](http://en.wikipedia.org/wiki/Ordovician \"Ordovician\") [S](http://en.wikipedia.org/wiki/Silurian \"Silurian\") [D](http://en.wikipedia.org/wiki/Devonian \"Devonian\") [C](http://en.wikipedia.org/wiki/Carboniferous \"Carboniferous\") [P](http://en.wikipedia.org/wiki/Permian \"Permian\") [T](http://en.wikipedia.org/wiki/Triassic \"Triassic\") [J](http://en.wikipedia.org/wiki/Jurassic \"Jurassic\") [K](http://en.wikipedia.org/wiki/Cretaceous \"Cretaceous\") [Pg](http://en.wikipedia.org/wiki/Paleogene \"Paleogene\") [N](http://en.wikipedia.org/wiki/Neogene \"Neogene\") ↓ |\n",
       "| --- |\n",
       "| [Scientific classification](http://en.wikipedia.org/wiki/Taxonomy_(biology) \"Taxonomy (biology)\")[![Image 7: Edit this classification](http://upload.wikimedia.org/wikipedia/commons/thumb/8/8a/OOjs_UI_icon_edit-ltr.svg/20px-OOjs_UI_icon_edit-ltr.svg.png)](http://en.wikipedia.org/wiki/Template:Taxonomy/Caviodon \"Edit this classification\") |\n",
       "| Kingdom: | [Animalia](http://en.wikipedia.org/wiki/Animal \"Animal\") |\n",
       "| Phylum: | [Chordata](http://en.wikipedia.org/wiki/Chordate \"Chordate\") |\n",
       "| Class: | [Mammalia](http://en.wikipedia.org/wiki/Mammal \"Mammal\") |\n",
       "| Order: | [Rodentia](http://en.wikipedia.org/wiki/Rodent \"Rodent\") |\n",
       "| Family: | [Caviidae](http://en.wikipedia.org/wiki/Caviidae \"Caviidae\") |\n",
       "| Genus: | †[_Caviodon_](http://en.wikipedia.org/wiki/Caviodon) [Ameghino](http://en.wikipedia.org/wiki/Florentino_Ameghino \"Florentino Ameghino\"), 1885 |\n",
       "\n",
       "_**Caviodon**_ is an extinct [genus](http://en.wikipedia.org/wiki/Genus \"Genus\") of [Late Miocene](http://en.wikipedia.org/wiki/Miocene \"Miocene\") to [Late Pliocene](http://en.wikipedia.org/wiki/Pliocene \"Pliocene\") ([Chapadmalalan](http://en.wikipedia.org/wiki/Chapadmalalan \"Chapadmalalan\") to [Montehermosan](http://en.wikipedia.org/wiki/Montehermosan \"Montehermosan\") in the [SALMA classification](http://en.wikipedia.org/wiki/South_American_land_mammal_age \"South American land mammal age\")) [rodents](http://en.wikipedia.org/wiki/Rodent \"Rodent\"), related to the modern [capybara](http://en.wikipedia.org/wiki/Capybara \"Capybara\"). Fossils of _Caviodon_ have been found in [Argentina](http://en.wikipedia.org/wiki/Argentina \"Argentina\"), [Venezuela](http://en.wikipedia.org/wiki/Venezuela \"Venezuela\"), and [Brazil](http://en.wikipedia.org/wiki/Brazil \"Brazil\").[[1]](http://en.wikipedia.org/wiki/Caviodon#cite_note-FWCaviodon-1)[[2]](http://en.wikipedia.org/wiki/Caviodon#cite_note-Kerber2016-2)\n",
       "\n",
       "Known species include:[[1]](http://en.wikipedia.org/wiki/Caviodon#cite_note-FWCaviodon-1)\n",
       "\n",
       "*   †_C. andalhualensis_ Perez et al. 2018 \n",
       "*   †_C. australis_ Ameghino 1888 \n",
       "*   †_C. cuyano_ Vucetitch et al. 2011[[3]](http://en.wikipedia.org/wiki/Caviodon#cite_note-3)\n",
       "*   †_C. multiplicatus_ Ameghino 1885 \n",
       "*   †_C. pozzii_ Kraglievich 1927 \n",
       "\n",
       "References\n",
       "----------\n",
       "\n",
       "[[edit](http://en.wikipedia.org/w/index.php?title=Caviodon&action=edit&section=1 \"Edit section: References\")]\n",
       "\n",
       "*   [![Image 8: icon](http://upload.wikimedia.org/wikipedia/commons/thumb/9/97/Pleuroceras_ammonite_with_no_background.png/40px-Pleuroceras_ammonite_with_no_background.png)](http://en.wikipedia.org/wiki/File:Pleuroceras_ammonite_with_no_background.png)[Paleontology portal](http://en.wikipedia.org/wiki/Portal:Paleontology \"Portal:Paleontology\")\n",
       "*   ![Image 9](http://upload.wikimedia.org/wikipedia/commons/thumb/4/4f/Smilodon_Knight.jpg/40px-Smilodon_Knight.jpg)[Prehistoric mammals portal](http://en.wikipedia.org/wiki/Portal:Prehistoric_mammals \"Portal:Prehistoric mammals\")\n",
       "\n",
       "1.   ^ [Jump up to: _**a**_](http://en.wikipedia.org/wiki/Caviodon#cite_ref-FWCaviodon_1-0)[_**b**_](http://en.wikipedia.org/wiki/Caviodon#cite_ref-FWCaviodon_1-1)[_Caviodon_](https://paleobiodb.org/classic/checkTaxonInfo?taxon_no=42112) at [Fossilworks](http://en.wikipedia.org/wiki/Fossilworks \"Fossilworks\").org\n",
       "2.   **[^](http://en.wikipedia.org/wiki/Caviodon#cite_ref-Kerber2016_2-0 \"Jump up\")**Kerber, L.; Negri, F.R.; et al. (June 2016). [\"Tropical fossil caviomorph rodents from the southwestern Brazilian Amazonia in the context of the South American faunas: systematics, biochronology, and paleobiogeography\"](https://doi.org/10.1007%2Fs10914-016-9340-2). _Journal of Mammalian Evolution_. **24**: 57–70. [doi](http://en.wikipedia.org/wiki/Doi_(identifier) \"Doi (identifier)\"):[10.1007/s10914-016-9340-2](https://doi.org/10.1007%2Fs10914-016-9340-2).\n",
       "3.   **[^](http://en.wikipedia.org/wiki/Caviodon#cite_ref-3 \"Jump up\")**María Guiomar Vucetich; Cecilia M. Deschamps; Cecilia C. Morgan; Analía M. Forasiepi (2011). \"A new species of Cardiomyinae (Rodentia, Hydrochoeridae) from western Argentina. Its age and considerations on ontogeny and diversity of the subfamily\". _[Ameghiniana](http://en.wikipedia.org/wiki/Ameghiniana \"Ameghiniana\")_. **48** (4): 556–567. [Bibcode](http://en.wikipedia.org/wiki/Bibcode_(identifier) \"Bibcode (identifier)\"):[2011Amegh..48..556V](https://ui.adsabs.harvard.edu/abs/2011Amegh..48..556V). [doi](http://en.wikipedia.org/wiki/Doi_(identifier) \"Doi (identifier)\"):[10.5710/AMGH.v48i4(459)](https://doi.org/10.5710%2FAMGH.v48i4%28459%29). [hdl](http://en.wikipedia.org/wiki/Hdl_(identifier) \"Hdl (identifier)\"):[11336/98359](https://hdl.handle.net/11336%2F98359). [S2CID](http://en.wikipedia.org/wiki/S2CID_(identifier) \"S2CID (identifier)\")[130118821](https://api.semanticscholar.org/CorpusID:130118821).\n",
       "\n",
       "| [Taxon identifiers](http://en.wikipedia.org/wiki/Help:Taxon_identifiers \"Help:Taxon identifiers\") |\n",
       "| --- |\n",
       "| _Caviodon_ | * [Wikidata](http://en.wikipedia.org/wiki/Wikidata \"Wikidata\"): [Q5055153](https://www.wikidata.org/wiki/Q5055153 \"wikidata:Q5055153\") * [EoL](http://en.wikipedia.org/wiki/Encyclopedia_of_Life \"Encyclopedia of Life\"): [4455545](https://eol.org/pages/4455545) * [GBIF](http://en.wikipedia.org/wiki/Global_Biodiversity_Information_Facility \"Global Biodiversity Information Facility\"): [4829500](https://www.gbif.org/species/4829500) * [IRMNG](http://en.wikipedia.org/wiki/Interim_Register_of_Marine_and_Nonmarine_Genera \"Interim Register of Marine and Nonmarine Genera\"): [1406148](https://www.irmng.org/aphia.php?p=taxdetails&id=1406148) * [Open Tree of Life](http://en.wikipedia.org/wiki/Open_Tree_of_Life \"Open Tree of Life\"): [4117100](https://tree.opentreeoflife.org/taxonomy/browse?id=4117100) * [Paleobiology Database](http://en.wikipedia.org/wiki/Paleobiology_Database \"Paleobiology Database\"): [42112](https://paleobiodb.org/classic/basicTaxonInfo?taxon_no=42112) |\n",
       "\n",
       "[![Image 10: Stub icon](http://upload.wikimedia.org/wikipedia/commons/thumb/1/17/Castoroides_dilophidus.png/60px-Castoroides_dilophidus.png)](http://en.wikipedia.org/wiki/File:Castoroides_dilophidus.png)This article about a [prehistoric](http://en.wikipedia.org/wiki/Prehistory \"Prehistory\")[rodent](http://en.wikipedia.org/wiki/Rodent \"Rodent\") is a [stub](http://en.wikipedia.org/wiki/Wikipedia:Stub \"Wikipedia:Stub\"). You can help Wikipedia by [expanding it](https://en.wikipedia.org/w/index.php?title=Caviodon&action=edit).\n",
       "\n",
       "*   [v](http://en.wikipedia.org/wiki/Template:Paleo-rodent-stub \"Template:Paleo-rodent-stub\")\n",
       "*   [t](http://en.wikipedia.org/wiki/Template_talk:Paleo-rodent-stub \"Template talk:Paleo-rodent-stub\")\n",
       "*   [e](http://en.wikipedia.org/wiki/Special:EditPage/Template:Paleo-rodent-stub \"Special:EditPage/Template:Paleo-rodent-stub\")\n",
       "\n",
       "Retrieved from \"[https://en.wikipedia.org/w/index.php?title=Caviodon&oldid=1295521068](https://en.wikipedia.org/w/index.php?title=Caviodon&oldid=1295521068)\"\n",
       "\n",
       "[Categories](http://en.wikipedia.org/wiki/Help:Category \"Help:Category\"): \n",
       "*   [Cavies](http://en.wikipedia.org/wiki/Category:Cavies \"Category:Cavies\")\n",
       "*   [Miocene rodents](http://en.wikipedia.org/wiki/Category:Miocene_rodents \"Category:Miocene rodents\")\n",
       "*   [Pliocene rodents](http://en.wikipedia.org/wiki/Category:Pliocene_rodents \"Category:Pliocene rodents\")\n",
       "*   [Miocene mammals of South America](http://en.wikipedia.org/wiki/Category:Miocene_mammals_of_South_America \"Category:Miocene mammals of South America\")\n",
       "*   [Pliocene mammals of South America](http://en.wikipedia.org/wiki/Category:Pliocene_mammals_of_South_America \"Category:Pliocene mammals of South America\")\n",
       "*   [Montehermosan](http://en.wikipedia.org/wiki/Category:Montehermosan \"Category:Montehermosan\")\n",
       "*   [Chapadmalalan](http://en.wikipedia.org/wiki/Category:Chapadmalalan \"Category:Chapadmalalan\")\n",
       "*   [Neogene Argentina](http://en.wikipedia.org/wiki/Category:Neogene_Argentina \"Category:Neogene Argentina\")\n",
       "*   [Fossils of Argentina](http://en.wikipedia.org/wiki/Category:Fossils_of_Argentina \"Category:Fossils of Argentina\")\n",
       "*   [Ituzaingó Formation](http://en.wikipedia.org/wiki/Category:Ituzaing%C3%B3_Formation \"Category:Ituzaingó Formation\")\n",
       "*   [Neogene Venezuela](http://en.wikipedia.org/wiki/Category:Neogene_Venezuela \"Category:Neogene Venezuela\")\n",
       "*   [Fossils of Venezuela](http://en.wikipedia.org/wiki/Category:Fossils_of_Venezuela \"Category:Fossils of Venezuela\")\n",
       "*   [Fossil taxa described in 1885](http://en.wikipedia.org/wiki/Category:Fossil_taxa_described_in_1885 \"Category:Fossil taxa described in 1885\")\n",
       "*   [Taxa named by Florentino Ameghino](http://en.wikipedia.org/wiki/Category:Taxa_named_by_Florentino_Ameghino \"Category:Taxa named by Florentino Ameghino\")\n",
       "*   [Prehistoric rodent stubs](http://en.wikipedia.org/wiki/Category:Prehistoric_rodent_stubs \"Category:Prehistoric rodent stubs\")\n",
       "\n",
       "Hidden categories: \n",
       "*   [Articles with short description](http://en.wikipedia.org/wiki/Category:Articles_with_short_description \"Category:Articles with short description\")\n",
       "*   [Short description is different from Wikidata](http://en.wikipedia.org/wiki/Category:Short_description_is_different_from_Wikidata \"Category:Short description is different from Wikidata\")\n",
       "*   [Articles with 'species' microformats](http://en.wikipedia.org/wiki/Category:Articles_with_%27species%27_microformats \"Category:Articles with 'species' microformats\")\n",
       "*   [All stub articles](http://en.wikipedia.org/wiki/Category:All_stub_articles \"Category:All stub articles\")\n",
       "\n",
       "*    This page was last edited on 14 June 2025, at 07:25(UTC).\n",
       "*   Text is available under the [Creative Commons Attribution-ShareAlike 4.0 License](http://en.wikipedia.org/wiki/Wikipedia:Text_of_the_Creative_Commons_Attribution-ShareAlike_4.0_International_License \"Wikipedia:Text of the Creative Commons Attribution-ShareAlike 4.0 International License\"); additional terms may apply. By using this site, you agree to the [Terms of Use](https://foundation.wikimedia.org/wiki/Special:MyLanguage/Policy:Terms_of_Use \"foundation:Special:MyLanguage/Policy:Terms of Use\") and [Privacy Policy](https://foundation.wikimedia.org/wiki/Special:MyLanguage/Policy:Privacy_policy \"foundation:Special:MyLanguage/Policy:Privacy policy\"). Wikipedia® is a registered trademark of the [Wikimedia Foundation, Inc.](https://wikimediafoundation.org/), a non-profit organization.\n",
       "\n",
       "*   [Privacy policy](https://foundation.wikimedia.org/wiki/Special:MyLanguage/Policy:Privacy_policy)\n",
       "*   [About Wikipedia](http://en.wikipedia.org/wiki/Wikipedia:About)\n",
       "*   [Disclaimers](http://en.wikipedia.org/wiki/Wikipedia:General_disclaimer)\n",
       "*   [Contact Wikipedia](http://en.wikipedia.org/wiki/Wikipedia:Contact_us)\n",
       "*   [Code of Conduct](https://foundation.wikimedia.org/wiki/Special:MyLanguage/Policy:Universal_Code_of_Conduct)\n",
       "*   [Developers](https://developer.wikimedia.org/)\n",
       "*   [Statistics](https://stats.wikimedia.org/#/en.wikipedia.org)\n",
       "*   [Cookie statement](https://foundation.wikimedia.org/wiki/Special:MyLanguage/Policy:Cookie_statement)\n",
       "*   [Mobile view](http://en.wikipedia.org/w/index.php?title=Caviodon&mobileaction=toggle_view_mobile)\n",
       "*   [Edit preview settings](http://en.wikipedia.org/wiki/Caviodon#)\n",
       "\n",
       "*   [![Image 12: Wikimedia Foundation](http://en.wikipedia.org/static/images/footer/wikimedia.svg)](https://www.wikimedia.org/)\n",
       "*   [![Image 13: Powered by MediaWiki](http://en.wikipedia.org/w/resources/assets/mediawiki_compact.svg)](https://www.mediawiki.org/)\n",
       "\n",
       "Search\n",
       "\n",
       "Search\n",
       "\n",
       "- [x] Toggle the table of contents \n",
       "\n",
       "_Caviodon_\n",
       "\n",
       "[](http://en.wikipedia.org/wiki/Caviodon#)[](http://en.wikipedia.org/wiki/Caviodon#)[](http://en.wikipedia.org/wiki/Caviodon#)[](http://en.wikipedia.org/wiki/Caviodon#)[](http://en.wikipedia.org/wiki/Caviodon#)[](http://en.wikipedia.org/wiki/Caviodon#)[](http://en.wikipedia.org/wiki/Caviodon#)[](http://en.wikipedia.org/wiki/Caviodon#)\n",
       "\n",
       "1 language[Add topic](http://en.wikipedia.org/wiki/Caviodon#)\n",
       "\n",
       "[](https://en.wikipedia.org/wiki/Caviodon?action=edit)\n",
       "</pre>\n",
       "            </div>\n",
       "            \n",
       "            </details>\n",
       "        "
      ],
      "text/plain": [
       "<IPython.core.display.HTML object>"
      ]
     },
     "metadata": {},
     "output_type": "display_data"
    },
    {
     "data": {
      "text/html": [
       "\n",
       "            <details>\n",
       "            <summary>Function call: <tt>save_summary({\"title\":\"Caviodon\",\"summary\":\"Caviodon is an e...)</tt></summary>\n",
       "            <div>\n",
       "                <b>Call</b>\n",
       "                <pre>{\"title\":\"Caviodon\",\"summary\":\"Caviodon is an extinct genus of rodents that lived from the Late Miocene to the Late Pliocene, specifically during the Chapadmalalan to Montehermosan periods in South America. It is related to modern capybaras, with fossil remains found in Argentina, Venezuela, and Brazil. Known species include Caviodon andalhualensis, Caviodon australis, Caviodon cuyano, Caviodon multiplicatus, and Caviodon pozzii.\"}</pre>\n",
       "            </div>\n",
       "            <div>\n",
       "                <b>Output</b>\n",
       "                <pre>Saved summary to summaries/Caviodon.txt</pre>\n",
       "            </div>\n",
       "            \n",
       "            </details>\n",
       "        "
      ],
      "text/plain": [
       "<IPython.core.display.HTML object>"
      ]
     },
     "metadata": {},
     "output_type": "display_data"
    },
    {
     "data": {
      "text/html": [
       "\n",
       "            <div>\n",
       "                <div><b>Assistant:</b></div>\n",
       "                <div><p>The summary for the Wikipedia page on <strong>Caviodon</strong> has been successfully saved. Here’s a brief preview:</p>\n",
       "<p><strong>Caviodon</strong> is an extinct genus of rodents that lived from the Late Miocene to the Late Pliocene, specifically in South America. It is related to modern capybaras, with fossil remains found in Argentina, Venezuela, and Brazil.</p>\n",
       "<p>If you need further information or assistance, feel free to ask!</p>\n",
       "</div>\n",
       "            </div>\n",
       "        "
      ],
      "text/plain": [
       "<IPython.core.display.HTML object>"
      ]
     },
     "metadata": {},
     "output_type": "display_data"
    },
    {
     "name": "stdin",
     "output_type": "stream",
     "text": [
      "You: What are threats to capybara populations?\n"
     ]
    },
    {
     "name": "stdout",
     "output_type": "stream",
     "text": [
      "search handoff called\n",
      "handoff: transfer_to_search_agent\n",
      "handoff: search_agent -> triage_agent successful\n"
     ]
    },
    {
     "data": {
      "text/html": [
       "\n",
       "            <div>\n",
       "                <div><b>Assistant:</b></div>\n",
       "                <div><p>What are the threats to capybara populations?</p>\n",
       "</div>\n",
       "            </div>\n",
       "        "
      ],
      "text/plain": [
       "<IPython.core.display.HTML object>"
      ]
     },
     "metadata": {},
     "output_type": "display_data"
    },
    {
     "name": "stdin",
     "output_type": "stream",
     "text": [
      "You: What are threats to capybara populations?\n"
     ]
    },
    {
     "name": "stdout",
     "output_type": "stream",
     "text": [
      "search handoff called\n",
      "handoff: transfer_to_search_agent\n",
      "handoff: search_agent -> triage_agent successful\n"
     ]
    },
    {
     "data": {
      "text/html": [
       "\n",
       "            <div>\n",
       "                <div><b>Assistant:</b></div>\n",
       "                <div><p>Capybara populations face several threats, including:</p>\n",
       "<ol>\n",
       "<li><p><strong>Habitat Loss</strong>: As wetlands and grasslands are converted for agriculture and urban development, capybaras lose crucial habitat.</p>\n",
       "</li>\n",
       "<li><p><strong>Hunting</strong>: In some regions, capybaras are hunted for their meat and skin, which can significantly impact local populations.</p>\n",
       "</li>\n",
       "<li><p><strong>Predation</strong>: Increased predation from domestic animals like dogs can threaten capybara populations, especially in areas where they coexist with human settlements.</p>\n",
       "</li>\n",
       "<li><p><strong>Climate Change</strong>: Alterations in climate can affect their habitats, food sources, and water availability.</p>\n",
       "</li>\n",
       "<li><p><strong>Pollution</strong>: Water pollution from agricultural runoff and industrial activities can degrade their living environment.</p>\n",
       "</li>\n",
       "<li><p><strong>Competition</strong>: Competition for resources with livestock and other species can also impact capybara survival.</p>\n",
       "</li>\n",
       "</ol>\n",
       "<p>These factors combined can contribute to the decline of capybara populations in certain areas. If you’d like to know more about any specific factor or related topic, just let me know!</p>\n",
       "</div>\n",
       "            </div>\n",
       "        "
      ],
      "text/plain": [
       "<IPython.core.display.HTML object>"
      ]
     },
     "metadata": {},
     "output_type": "display_data"
    }
   ],
   "source": [
    "await triage_runner.run();"
   ]
  },
  {
   "cell_type": "code",
   "execution_count": null,
   "id": "0793d1c6-f9ff-4736-b8ae-08f85e68de94",
   "metadata": {},
   "outputs": [],
   "source": []
  }
 ],
 "metadata": {
  "kernelspec": {
   "display_name": "Python 3 (ipykernel)",
   "language": "python",
   "name": "python3"
  },
  "language_info": {
   "codemirror_mode": {
    "name": "ipython",
    "version": 3
   },
   "file_extension": ".py",
   "mimetype": "text/x-python",
   "name": "python",
   "nbconvert_exporter": "python",
   "pygments_lexer": "ipython3",
   "version": "3.12.1"
  }
 },
 "nbformat": 4,
 "nbformat_minor": 5
}
